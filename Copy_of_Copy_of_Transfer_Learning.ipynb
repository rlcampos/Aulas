{
  "nbformat": 4,
  "nbformat_minor": 0,
  "metadata": {
    "colab": {
      "name": "Copy of Copy of Transfer Learning.ipynb",
      "version": "0.3.2",
      "provenance": [],
      "collapsed_sections": [],
      "include_colab_link": true
    },
    "kernelspec": {
      "name": "python3",
      "display_name": "Python 3"
    },
    "accelerator": "GPU"
  },
  "cells": [
    {
      "cell_type": "markdown",
      "metadata": {
        "id": "view-in-github",
        "colab_type": "text"
      },
      "source": [
        "<a href=\"https://colab.research.google.com/github/rlcampos/Aulas/blob/master/Copy_of_Copy_of_Transfer_Learning.ipynb\" target=\"_parent\"><img src=\"https://colab.research.google.com/assets/colab-badge.svg\" alt=\"Open In Colab\"/></a>"
      ]
    },
    {
      "metadata": {
        "colab_type": "text",
        "id": "qYRaCPTUmhsu"
      },
      "cell_type": "markdown",
      "source": [
        "<table style=\"width:100%\" align=\"right\">\n",
        "  <tr>\n",
        "    <td><center style=\"font-size:300%;\">Transfer Learning</center></td>\n",
        "    <td><img src=\"https://logodownload.org/wp-content/uploads/2015/02/puc-rio-logo.gif\" width=\"100\"/></td> \n",
        "  </tr>    \n",
        "</table>\n",
        "\n",
        "Msc. Cristian Muñoz V."
      ]
    },
    {
      "metadata": {
        "id": "Z2wkJAV1G-sC",
        "colab_type": "text"
      },
      "cell_type": "markdown",
      "source": [
        "Para baixar o dataset do repositorio:"
      ]
    },
    {
      "metadata": {
        "id": "-QFCHVN9QP25",
        "colab_type": "code",
        "outputId": "97ed5c7d-daef-4243-85b0-6f0cf1ea5cc6",
        "colab": {
          "base_uri": "https://localhost:8080/",
          "height": 2618
        }
      },
      "cell_type": "code",
      "source": [
        "%%bash \n",
        "\n",
        "rm -rf yalefaces yalefaces.zip transfer_learning_utils.py\n",
        "wget -O yalefaces.zip https://github.com/crismunoz/DeepLearningExamples/raw/master/week1/data/yalefaces.zip\n",
        "wget -O transfer_learning_utils.py https://github.com/crismunoz/DeepLearningExamples/raw/master/week1/transfer_learning_utils.py\n",
        "unzip -qq yalefaces.zip"
      ],
      "execution_count": 0,
      "outputs": [
        {
          "output_type": "stream",
          "text": [
            "--2019-04-27 13:30:25--  https://github.com/crismunoz/DeepLearningExamples/raw/master/week1/data/yalefaces.zip\n",
            "Resolving github.com (github.com)... 192.30.253.112, 192.30.253.113\n",
            "Connecting to github.com (github.com)|192.30.253.112|:443... connected.\n",
            "HTTP request sent, awaiting response... 302 Found\n",
            "Location: https://raw.githubusercontent.com/crismunoz/DeepLearningExamples/master/week1/data/yalefaces.zip [following]\n",
            "--2019-04-27 13:30:30--  https://raw.githubusercontent.com/crismunoz/DeepLearningExamples/master/week1/data/yalefaces.zip\n",
            "Resolving raw.githubusercontent.com (raw.githubusercontent.com)... 151.101.0.133, 151.101.64.133, 151.101.128.133, ...\n",
            "Connecting to raw.githubusercontent.com (raw.githubusercontent.com)|151.101.0.133|:443... connected.\n",
            "HTTP request sent, awaiting response... 200 OK\n",
            "Length: 6203596 (5.9M) [application/zip]\n",
            "Saving to: ‘yalefaces.zip’\n",
            "\n",
            "     0K .......... .......... .......... .......... ..........  0% 1.02M 6s\n",
            "    50K .......... .......... .......... .......... ..........  1% 4.80M 3s\n",
            "   100K .......... .......... .......... .......... ..........  2%  145M 2s\n",
            "   150K .......... .......... .......... .......... ..........  3%  220M 2s\n",
            "   200K .......... .......... .......... .......... ..........  4% 4.99M 2s\n",
            "   250K .......... .......... .......... .......... ..........  4%  216M 1s\n",
            "   300K .......... .......... .......... .......... ..........  5%  244M 1s\n",
            "   350K .......... .......... .......... .......... ..........  6% 4.99M 1s\n",
            "   400K .......... .......... .......... .......... ..........  7%  122M 1s\n",
            "   450K .......... .......... .......... .......... ..........  8%  254M 1s\n",
            "   500K .......... .......... .......... .......... ..........  9%  228M 1s\n",
            "   550K .......... .......... .......... .......... ..........  9%  273M 1s\n",
            "   600K .......... .......... .......... .......... .......... 10%  235M 1s\n",
            "   650K .......... .......... .......... .......... .......... 11%  273M 1s\n",
            "   700K .......... .......... .......... .......... .......... 12% 5.74M 1s\n",
            "   750K .......... .......... .......... .......... .......... 13%  157M 1s\n",
            "   800K .......... .......... .......... .......... .......... 14% 51.1M 1s\n",
            "   850K .......... .......... .......... .......... .......... 14%  189M 1s\n",
            "   900K .......... .......... .......... .......... .......... 15%  259M 0s\n",
            "   950K .......... .......... .......... .......... .......... 16%  227M 0s\n",
            "  1000K .......... .......... .......... .......... .......... 17%  228M 0s\n",
            "  1050K .......... .......... .......... .......... .......... 18%  234M 0s\n",
            "  1100K .......... .......... .......... .......... .......... 18%  204M 0s\n",
            "  1150K .......... .......... .......... .......... .......... 19%  275M 0s\n",
            "  1200K .......... .......... .......... .......... .......... 20%  169M 0s\n",
            "  1250K .......... .......... .......... .......... .......... 21%  242M 0s\n",
            "  1300K .......... .......... .......... .......... .......... 22% 6.89M 0s\n",
            "  1350K .......... .......... .......... .......... .......... 23%  202M 0s\n",
            "  1400K .......... .......... .......... .......... .......... 23%  185M 0s\n",
            "  1450K .......... .......... .......... .......... .......... 24%  172M 0s\n",
            "  1500K .......... .......... .......... .......... .......... 25%  178M 0s\n",
            "  1550K .......... .......... .......... .......... .......... 26%  174M 0s\n",
            "  1600K .......... .......... .......... .......... .......... 27%  152M 0s\n",
            "  1650K .......... .......... .......... .......... .......... 28%  145M 0s\n",
            "  1700K .......... .......... .......... .......... .......... 28%  123M 0s\n",
            "  1750K .......... .......... .......... .......... .......... 29%  107M 0s\n",
            "  1800K .......... .......... .......... .......... .......... 30%  151M 0s\n",
            "  1850K .......... .......... .......... .......... .......... 31%  156M 0s\n",
            "  1900K .......... .......... .......... .......... .......... 32%  230M 0s\n",
            "  1950K .......... .......... .......... .......... .......... 33%  270M 0s\n",
            "  2000K .......... .......... .......... .......... .......... 33%  224M 0s\n",
            "  2050K .......... .......... .......... .......... .......... 34%  276M 0s\n",
            "  2100K .......... .......... .......... .......... .......... 35%  265M 0s\n",
            "  2150K .......... .......... .......... .......... .......... 36%  244M 0s\n",
            "  2200K .......... .......... .......... .......... .......... 37%  213M 0s\n",
            "  2250K .......... .......... .......... .......... .......... 37%  250M 0s\n",
            "  2300K .......... .......... .......... .......... .......... 38%  229M 0s\n",
            "  2350K .......... .......... .......... .......... .......... 39%  239M 0s\n",
            "  2400K .......... .......... .......... .......... .......... 40%  218M 0s\n",
            "  2450K .......... .......... .......... .......... .......... 41%  278M 0s\n",
            "  2500K .......... .......... .......... .......... .......... 42%  270M 0s\n",
            "  2550K .......... .......... .......... .......... .......... 42%  275M 0s\n",
            "  2600K .......... .......... .......... .......... .......... 43% 12.6M 0s\n",
            "  2650K .......... .......... .......... .......... .......... 44%  190M 0s\n",
            "  2700K .......... .......... .......... .......... .......... 45%  161M 0s\n",
            "  2750K .......... .......... .......... .......... .......... 46%  162M 0s\n",
            "  2800K .......... .......... .......... .......... .......... 47%  163M 0s\n",
            "  2850K .......... .......... .......... .......... .......... 47%  258M 0s\n",
            "  2900K .......... .......... .......... .......... .......... 48%  254M 0s\n",
            "  2950K .......... .......... .......... .......... .......... 49%  274M 0s\n",
            "  3000K .......... .......... .......... .......... .......... 50%  237M 0s\n",
            "  3050K .......... .......... .......... .......... .......... 51%  249M 0s\n",
            "  3100K .......... .......... .......... .......... .......... 51%  245M 0s\n",
            "  3150K .......... .......... .......... .......... .......... 52%  247M 0s\n",
            "  3200K .......... .......... .......... .......... .......... 53%  217M 0s\n",
            "  3250K .......... .......... .......... .......... .......... 54%  234M 0s\n",
            "  3300K .......... .......... .......... .......... .......... 55%  237M 0s\n",
            "  3350K .......... .......... .......... .......... .......... 56% 3.41M 0s\n",
            "  3400K .......... .......... .......... .......... .......... 56%  111M 0s\n",
            "  3450K .......... .......... .......... .......... .......... 57%  155M 0s\n",
            "  3500K .......... .......... .......... .......... .......... 58%  150M 0s\n",
            "  3550K .......... .......... .......... .......... .......... 59%  152M 0s\n",
            "  3600K .......... .......... .......... .......... .......... 60%  156M 0s\n",
            "  3650K .......... .......... .......... .......... .......... 61%  175M 0s\n",
            "  3700K .......... .......... .......... .......... .......... 61%  228M 0s\n",
            "  3750K .......... .......... .......... .......... .......... 62%  203M 0s\n",
            "  3800K .......... .......... .......... .......... .......... 63%  177M 0s\n",
            "  3850K .......... .......... .......... .......... .......... 64%  163M 0s\n",
            "  3900K .......... .......... .......... .......... .......... 65%  226M 0s\n",
            "  3950K .......... .......... .......... .......... .......... 66%  191M 0s\n",
            "  4000K .......... .......... .......... .......... .......... 66%  161M 0s\n",
            "  4050K .......... .......... .......... .......... .......... 67%  156M 0s\n",
            "  4100K .......... .......... .......... .......... .......... 68%  188M 0s\n",
            "  4150K .......... .......... .......... .......... .......... 69%  202M 0s\n",
            "  4200K .......... .......... .......... .......... .......... 70%  207M 0s\n",
            "  4250K .......... .......... .......... .......... .......... 70%  179M 0s\n",
            "  4300K .......... .......... .......... .......... .......... 71%  115M 0s\n",
            "  4350K .......... .......... .......... .......... .......... 72%  166M 0s\n",
            "  4400K .......... .......... .......... .......... .......... 73%  128M 0s\n",
            "  4450K .......... .......... .......... .......... .......... 74%  179M 0s\n",
            "  4500K .......... .......... .......... .......... .......... 75%  196M 0s\n",
            "  4550K .......... .......... .......... .......... .......... 75%  222M 0s\n",
            "  4600K .......... .......... .......... .......... .......... 76%  239M 0s\n",
            "  4650K .......... .......... .......... .......... .......... 77%  267M 0s\n",
            "  4700K .......... .......... .......... .......... .......... 78%  271M 0s\n",
            "  4750K .......... .......... .......... .......... .......... 79%  273M 0s\n",
            "  4800K .......... .......... .......... .......... .......... 80%  205M 0s\n",
            "  4850K .......... .......... .......... .......... .......... 80%  248M 0s\n",
            "  4900K .......... .......... .......... .......... .......... 81%  247M 0s\n",
            "  4950K .......... .......... .......... .......... .......... 82%  258M 0s\n",
            "  5000K .......... .......... .......... .......... .......... 83%  204M 0s\n",
            "  5050K .......... .......... .......... .......... .......... 84%  217M 0s\n",
            "  5100K .......... .......... .......... .......... .......... 85%  209M 0s\n",
            "  5150K .......... .......... .......... .......... .......... 85%  235M 0s\n",
            "  5200K .......... .......... .......... .......... .......... 86%  200M 0s\n",
            "  5250K .......... .......... .......... .......... .......... 87%  230M 0s\n",
            "  5300K .......... .......... .......... .......... .......... 88%  215M 0s\n",
            "  5350K .......... .......... .......... .......... .......... 89%  239M 0s\n",
            "  5400K .......... .......... .......... .......... .......... 89%  238M 0s\n",
            "  5450K .......... .......... .......... .......... .......... 90%  271M 0s\n",
            "  5500K .......... .......... .......... .......... .......... 91%  265M 0s\n",
            "  5550K .......... .......... .......... .......... .......... 92%  258M 0s\n",
            "  5600K .......... .......... .......... .......... .......... 93%  227M 0s\n",
            "  5650K .......... .......... .......... .......... .......... 94%  270M 0s\n",
            "  5700K .......... .......... .......... .......... .......... 94%  273M 0s\n",
            "  5750K .......... .......... .......... .......... .......... 95%  268M 0s\n",
            "  5800K .......... .......... .......... .......... .......... 96%  232M 0s\n",
            "  5850K .......... .......... .......... .......... .......... 97%  274M 0s\n",
            "  5900K .......... .......... .......... .......... .......... 98%  273M 0s\n",
            "  5950K .......... .......... .......... .......... .......... 99%  279M 0s\n",
            "  6000K .......... .......... .......... .......... .......... 99%  235M 0s\n",
            "  6050K ........                                              100%  221M=0.1s\n",
            "\n",
            "2019-04-27 13:30:30 (42.4 MB/s) - ‘yalefaces.zip’ saved [6203596/6203596]\n",
            "\n",
            "--2019-04-27 13:30:30--  https://github.com/crismunoz/DeepLearningExamples/raw/master/week1/transfer_learning_utils.py\n",
            "Resolving github.com (github.com)... 192.30.253.112, 192.30.253.113\n",
            "Connecting to github.com (github.com)|192.30.253.112|:443... connected.\n",
            "HTTP request sent, awaiting response... 302 Found\n",
            "Location: https://raw.githubusercontent.com/crismunoz/DeepLearningExamples/master/week1/transfer_learning_utils.py [following]\n",
            "--2019-04-27 13:30:30--  https://raw.githubusercontent.com/crismunoz/DeepLearningExamples/master/week1/transfer_learning_utils.py\n",
            "Resolving raw.githubusercontent.com (raw.githubusercontent.com)... 151.101.0.133, 151.101.64.133, 151.101.128.133, ...\n",
            "Connecting to raw.githubusercontent.com (raw.githubusercontent.com)|151.101.0.133|:443... connected.\n",
            "HTTP request sent, awaiting response... 200 OK\n",
            "Length: 3668 (3.6K) [text/plain]\n",
            "Saving to: ‘transfer_learning_utils.py’\n",
            "\n",
            "     0K ...                                                   100% 52.7M=0s\n",
            "\n",
            "2019-04-27 13:30:31 (52.7 MB/s) - ‘transfer_learning_utils.py’ saved [3668/3668]\n",
            "\n"
          ],
          "name": "stderr"
        }
      ]
    },
    {
      "metadata": {
        "id": "hJseJLmwHRnB",
        "colab_type": "text"
      },
      "cell_type": "markdown",
      "source": [
        "A estrutura de pastas do dataset é a seguiente:\n",
        "\n",
        "-- nomedataset\n",
        "\n",
        "    -- *classe1*\n",
        "\n",
        "      -- img1.jpg\n",
        "\n",
        "      -- img2.jpg\n",
        "      ...\n",
        "   \n",
        "    -- *classe2*\n",
        "\n",
        "       -- img1.jpg\n",
        "\n",
        "       -- img2.jpg\n",
        "       ...\n",
        "       \n",
        "    ... *cla..*\n"
      ]
    },
    {
      "metadata": {
        "colab_type": "code",
        "id": "iYf336XcMUTS",
        "outputId": "33b57629-87a1-44e4-f973-1e5fdd4d9bfb",
        "colab": {
          "base_uri": "https://localhost:8080/",
          "height": 34
        }
      },
      "cell_type": "code",
      "source": [
        "from keras.models import Model,Input\n",
        "from keras.layers.core import Flatten, Dense, Dropout, Activation\n",
        "from keras.layers.convolutional import Conv2D, MaxPooling2D, ZeroPadding2D\n",
        "from keras.applications import  VGG16\n",
        "from keras.applications.vgg16 import preprocess_input,decode_predictions\n",
        "from keras.optimizers import SGD\n",
        "from keras.preprocessing.image import array_to_img, img_to_array, load_img\n",
        "from keras.applications.vgg16 import preprocess_input\n",
        "from keras import losses\n",
        "from keras.optimizers import RMSprop\n",
        "\n",
        "import pickle\n",
        "import cv2\n",
        "import numpy as np\n",
        "from PIL import Image\n",
        "from IPython.display import Image\n",
        "from random import randint\n",
        "import matplotlib.pylab as plt\n",
        "from transfer_learning_utils import *\n",
        "\n",
        "import datetime\n",
        "now = datetime.datetime.now\n"
      ],
      "execution_count": 0,
      "outputs": [
        {
          "output_type": "stream",
          "text": [
            "Using TensorFlow backend.\n"
          ],
          "name": "stderr"
        }
      ]
    },
    {
      "metadata": {
        "colab_type": "text",
        "id": "qPJVzEtwjYMa"
      },
      "cell_type": "markdown",
      "source": [
        "# Abrir Modelo Pretreinado"
      ]
    },
    {
      "metadata": {
        "colab_type": "text",
        "id": "mtm2bOkrlXTh"
      },
      "cell_type": "markdown",
      "source": [
        "*Modelo*:"
      ]
    },
    {
      "metadata": {
        "colab_type": "code",
        "id": "UlmGHjdMMlhd",
        "outputId": "afafda1d-a4a1-4e1a-eeda-69bf72b8c9c8",
        "colab": {
          "base_uri": "https://localhost:8080/",
          "height": 518
        }
      },
      "cell_type": "code",
      "source": [
        "pretrained_model = VGG16(weights=\"imagenet\", include_top=True)\n",
        "\n",
        "for i, layer in enumerate(pretrained_model.layers):\n",
        "    print(i , layer.name, layer.output_shape)"
      ],
      "execution_count": 0,
      "outputs": [
        {
          "output_type": "stream",
          "text": [
            "WARNING:tensorflow:From /usr/local/lib/python3.6/dist-packages/tensorflow/python/framework/op_def_library.py:263: colocate_with (from tensorflow.python.framework.ops) is deprecated and will be removed in a future version.\n",
            "Instructions for updating:\n",
            "Colocations handled automatically by placer.\n",
            "Downloading data from https://github.com/fchollet/deep-learning-models/releases/download/v0.1/vgg16_weights_tf_dim_ordering_tf_kernels.h5\n",
            "553467904/553467096 [==============================] - 6s 0us/step\n",
            "0 input_1 (None, 224, 224, 3)\n",
            "1 block1_conv1 (None, 224, 224, 64)\n",
            "2 block1_conv2 (None, 224, 224, 64)\n",
            "3 block1_pool (None, 112, 112, 64)\n",
            "4 block2_conv1 (None, 112, 112, 128)\n",
            "5 block2_conv2 (None, 112, 112, 128)\n",
            "6 block2_pool (None, 56, 56, 128)\n",
            "7 block3_conv1 (None, 56, 56, 256)\n",
            "8 block3_conv2 (None, 56, 56, 256)\n",
            "9 block3_conv3 (None, 56, 56, 256)\n",
            "10 block3_pool (None, 28, 28, 256)\n",
            "11 block4_conv1 (None, 28, 28, 512)\n",
            "12 block4_conv2 (None, 28, 28, 512)\n",
            "13 block4_conv3 (None, 28, 28, 512)\n",
            "14 block4_pool (None, 14, 14, 512)\n",
            "15 block5_conv1 (None, 14, 14, 512)\n",
            "16 block5_conv2 (None, 14, 14, 512)\n",
            "17 block5_conv3 (None, 14, 14, 512)\n",
            "18 block5_pool (None, 7, 7, 512)\n",
            "19 flatten (None, 25088)\n",
            "20 fc1 (None, 4096)\n",
            "21 fc2 (None, 4096)\n",
            "22 predictions (None, 1000)\n"
          ],
          "name": "stdout"
        }
      ]
    },
    {
      "metadata": {
        "colab_type": "text",
        "id": "jiWA5JqhjeON"
      },
      "cell_type": "markdown",
      "source": [
        "Escolher a camada adecuada para realizar transfer Learning\n",
        "\n",
        "\n",
        "*Modelo Bottleneck*:"
      ]
    },
    {
      "metadata": {
        "colab_type": "code",
        "id": "1JiCUrQ3RoBl",
        "outputId": "385d10e0-3a30-4637-aeef-81cd5233a30f",
        "colab": {
          "base_uri": "https://localhost:8080/",
          "height": 816
        }
      },
      "cell_type": "code",
      "source": [
        "bottleneck_model=Model(inputs  = pretrained_model.input,\n",
        "                       outputs = pretrained_model.get_layer('flatten').output)\n",
        "bottleneck_model.summary()"
      ],
      "execution_count": 0,
      "outputs": [
        {
          "output_type": "stream",
          "text": [
            "_________________________________________________________________\n",
            "Layer (type)                 Output Shape              Param #   \n",
            "=================================================================\n",
            "input_1 (InputLayer)         (None, 224, 224, 3)       0         \n",
            "_________________________________________________________________\n",
            "block1_conv1 (Conv2D)        (None, 224, 224, 64)      1792      \n",
            "_________________________________________________________________\n",
            "block1_conv2 (Conv2D)        (None, 224, 224, 64)      36928     \n",
            "_________________________________________________________________\n",
            "block1_pool (MaxPooling2D)   (None, 112, 112, 64)      0         \n",
            "_________________________________________________________________\n",
            "block2_conv1 (Conv2D)        (None, 112, 112, 128)     73856     \n",
            "_________________________________________________________________\n",
            "block2_conv2 (Conv2D)        (None, 112, 112, 128)     147584    \n",
            "_________________________________________________________________\n",
            "block2_pool (MaxPooling2D)   (None, 56, 56, 128)       0         \n",
            "_________________________________________________________________\n",
            "block3_conv1 (Conv2D)        (None, 56, 56, 256)       295168    \n",
            "_________________________________________________________________\n",
            "block3_conv2 (Conv2D)        (None, 56, 56, 256)       590080    \n",
            "_________________________________________________________________\n",
            "block3_conv3 (Conv2D)        (None, 56, 56, 256)       590080    \n",
            "_________________________________________________________________\n",
            "block3_pool (MaxPooling2D)   (None, 28, 28, 256)       0         \n",
            "_________________________________________________________________\n",
            "block4_conv1 (Conv2D)        (None, 28, 28, 512)       1180160   \n",
            "_________________________________________________________________\n",
            "block4_conv2 (Conv2D)        (None, 28, 28, 512)       2359808   \n",
            "_________________________________________________________________\n",
            "block4_conv3 (Conv2D)        (None, 28, 28, 512)       2359808   \n",
            "_________________________________________________________________\n",
            "block4_pool (MaxPooling2D)   (None, 14, 14, 512)       0         \n",
            "_________________________________________________________________\n",
            "block5_conv1 (Conv2D)        (None, 14, 14, 512)       2359808   \n",
            "_________________________________________________________________\n",
            "block5_conv2 (Conv2D)        (None, 14, 14, 512)       2359808   \n",
            "_________________________________________________________________\n",
            "block5_conv3 (Conv2D)        (None, 14, 14, 512)       2359808   \n",
            "_________________________________________________________________\n",
            "block5_pool (MaxPooling2D)   (None, 7, 7, 512)         0         \n",
            "_________________________________________________________________\n",
            "flatten (Flatten)            (None, 25088)             0         \n",
            "=================================================================\n",
            "Total params: 14,714,688\n",
            "Trainable params: 14,714,688\n",
            "Non-trainable params: 0\n",
            "_________________________________________________________________\n"
          ],
          "name": "stdout"
        }
      ]
    },
    {
      "metadata": {
        "id": "D8YaznWoP-ez",
        "colab_type": "text"
      },
      "cell_type": "markdown",
      "source": [
        "# Dataset yalefaces"
      ]
    },
    {
      "metadata": {
        "id": "g1GlHbH_GZLt",
        "colab_type": "text"
      },
      "cell_type": "markdown",
      "source": [
        "<center><img src=\"https://github.com/crismunoz/DeepLearningExamples/raw/master/week1/dataset/img/Alldataset.png\" width=\"600\"/></center>"
      ]
    },
    {
      "metadata": {
        "colab_type": "text",
        "id": "Ihh4hf0mklBN"
      },
      "cell_type": "markdown",
      "source": [
        "Abrir o dataset :"
      ]
    },
    {
      "metadata": {
        "colab_type": "code",
        "id": "bOPBARmOSRo8",
        "outputId": "be5e3417-eb29-4806-d784-aaf5967b4061",
        "colab": {
          "base_uri": "https://localhost:8080/",
          "height": 68
        }
      },
      "cell_type": "code",
      "source": [
        "(X_train,y_train) , (X_test,y_test) = load_data('yalefaces', 0.2)\n",
        "print('train shape:{}'.format(X_train.shape))\n",
        "print('test shape:{}'.format(X_test.shape))"
      ],
      "execution_count": 0,
      "outputs": [
        {
          "output_type": "stream",
          "text": [
            "Found 166 images belonging to 15 classes.\n",
            "train shape:(132, 224, 224, 3)\n",
            "test shape:(34, 224, 224, 3)\n"
          ],
          "name": "stdout"
        }
      ]
    },
    {
      "metadata": {
        "colab_type": "text",
        "id": "NVMsf1a9fJYC"
      },
      "cell_type": "markdown",
      "source": [
        "Realizamos o processo de data augmentation para os dados de treinamento e teste"
      ]
    },
    {
      "metadata": {
        "colab_type": "code",
        "id": "Os4NdoIFa4N3",
        "colab": {}
      },
      "cell_type": "code",
      "source": [
        "train_datagen = ImageDataGenerator(rescale=1,\n",
        "                               shear_range=0.2, \n",
        "                               zoom_range=0.2, \n",
        "                               horizontal_flip=True)\n",
        "\n",
        "test_datagen = ImageDataGenerator(rescale=1)\n",
        "\n",
        "batch_size = 32\n",
        "train_generator = train_datagen.flow(X_train, y_train, \n",
        "                                     batch_size=batch_size, \n",
        "                                     shuffle=False)\n",
        "\n",
        "test_generator = test_datagen.flow(X_test, y_test, \n",
        "                                     batch_size=batch_size, \n",
        "                                     shuffle=False)"
      ],
      "execution_count": 0,
      "outputs": []
    },
    {
      "metadata": {
        "colab_type": "text",
        "id": "ikVWwVBudliG"
      },
      "cell_type": "markdown",
      "source": [
        "Geração de vetores de imagens (features)"
      ]
    },
    {
      "metadata": {
        "colab_type": "code",
        "id": "krJRbQOBW3XP",
        "outputId": "8ed9ec2c-e9a6-40db-e3ba-83d4d04052ab",
        "colab": {
          "base_uri": "https://localhost:8080/",
          "height": 51
        }
      },
      "cell_type": "code",
      "source": [
        "train_steps_per_epoch = X_train.shape[0]//batch_size + 1\n",
        "test_steps_per_epoch = X_test.shape[0]//batch_size + 1\n",
        "\n",
        "increase_by=1\n",
        "steps_per_epoch = train_steps_per_epoch*increase_by\n",
        "train_features=[]\n",
        "train_labels=[]\n",
        "for i in range(steps_per_epoch):\n",
        "    print(\"\\rTraining Batches: {}/{}\".format(i+1,steps_per_epoch), end=\"\")\n",
        "    x,y = next(train_generator)\n",
        "    x=preprocess_input(x)\n",
        "    train_features.append(bottleneck_model.predict(x))\n",
        "    train_labels.append(y)\n",
        "\n",
        "test_features=[]\n",
        "test_labels=[]\n",
        "for i in range(test_steps_per_epoch):\n",
        "    print(\"\\rTest Batches: {}/{}\".format(i+1,test_steps_per_epoch), end=\"\")\n",
        "    x,y = next(test_generator)\n",
        "    x=preprocess_input(x)\n",
        "    test_features.append(bottleneck_model.predict(x))\n",
        "    test_labels.append(y)\n",
        "\n",
        "train_features = np.concatenate(train_features,axis=0)\n",
        "train_labels = np.concatenate(train_labels,axis=0)\n",
        "test_features = np.concatenate(test_features,axis=0)\n",
        "test_labels = np.concatenate(test_labels,axis=0)\n",
        "\n",
        "print('\\nCreation of vectors image finished!')"
      ],
      "execution_count": 0,
      "outputs": [
        {
          "output_type": "stream",
          "text": [
            "Test Batches: 2/2\n",
            "Creation of vectors image finished!\n"
          ],
          "name": "stdout"
        }
      ]
    },
    {
      "metadata": {
        "colab_type": "text",
        "id": "fjdjTuv9k1xY"
      },
      "cell_type": "markdown",
      "source": [
        "Como a extração de features é um processo demorado, se recomenda salvar  os features casso seja necessario restar o kernel."
      ]
    },
    {
      "metadata": {
        "colab_type": "code",
        "id": "u6FtPG4ViMNu",
        "colab": {}
      },
      "cell_type": "code",
      "source": [
        "train_data = (train_features,train_labels)\n",
        "test_data = (test_features,test_labels)\n",
        "pickle.dump(train_data, open('train_features.p','wb'))\n",
        "pickle.dump(test_data, open('test_features.p','wb'))"
      ],
      "execution_count": 0,
      "outputs": []
    },
    {
      "metadata": {
        "colab_type": "code",
        "id": "MbjNEB4XgWFX",
        "colab": {}
      },
      "cell_type": "code",
      "source": [
        "(train_features,train_labels) = pickle.load( open( \"train_features.p\", \"rb\" ) )\n",
        "(test_features,test_labels) = pickle.load( open( \"test_features.p\", \"rb\" ))"
      ],
      "execution_count": 0,
      "outputs": []
    },
    {
      "metadata": {
        "colab_type": "text",
        "id": "eqtSa0OllB8C"
      },
      "cell_type": "markdown",
      "source": [
        "Definimos nosso classificador:"
      ]
    },
    {
      "metadata": {
        "colab_type": "code",
        "id": "fGmEz3KmSqRE",
        "outputId": "e56687f5-e62a-42a2-ef3a-692a06289708",
        "colab": {
          "base_uri": "https://localhost:8080/",
          "height": 416
        }
      },
      "cell_type": "code",
      "source": [
        "inputs = Input(bottleneck_model.get_layer('flatten').output_shape[1:])\n",
        "x = Dense(128)(inputs)\n",
        "x = Activation('relu')(x)\n",
        "x = Dropout(0.5)(x)\n",
        "x = Dense(15)(x)\n",
        "x = Activation('softmax')(x)\n",
        "model_cls = Model(inputs=inputs, outputs=x)\n",
        "model_cls.summary()"
      ],
      "execution_count": 0,
      "outputs": [
        {
          "output_type": "stream",
          "text": [
            "WARNING:tensorflow:From /usr/local/lib/python3.6/dist-packages/keras/backend/tensorflow_backend.py:3445: calling dropout (from tensorflow.python.ops.nn_ops) with keep_prob is deprecated and will be removed in a future version.\n",
            "Instructions for updating:\n",
            "Please use `rate` instead of `keep_prob`. Rate should be set to `rate = 1 - keep_prob`.\n",
            "_________________________________________________________________\n",
            "Layer (type)                 Output Shape              Param #   \n",
            "=================================================================\n",
            "input_2 (InputLayer)         (None, 25088)             0         \n",
            "_________________________________________________________________\n",
            "dense_1 (Dense)              (None, 128)               3211392   \n",
            "_________________________________________________________________\n",
            "activation_1 (Activation)    (None, 128)               0         \n",
            "_________________________________________________________________\n",
            "dropout_1 (Dropout)          (None, 128)               0         \n",
            "_________________________________________________________________\n",
            "dense_2 (Dense)              (None, 15)                1935      \n",
            "_________________________________________________________________\n",
            "activation_2 (Activation)    (None, 15)                0         \n",
            "=================================================================\n",
            "Total params: 3,213,327\n",
            "Trainable params: 3,213,327\n",
            "Non-trainable params: 0\n",
            "_________________________________________________________________\n"
          ],
          "name": "stdout"
        }
      ]
    },
    {
      "metadata": {
        "colab_type": "text",
        "id": "P6gEDgrFlFwE"
      },
      "cell_type": "markdown",
      "source": [
        "Treinamos o modelo"
      ]
    },
    {
      "metadata": {
        "colab_type": "code",
        "id": "Lxvue39PX3_i",
        "outputId": "dd9665e4-2874-4081-def5-9175c2f9983d",
        "colab": {
          "base_uri": "https://localhost:8080/",
          "height": 1176
        }
      },
      "cell_type": "code",
      "source": [
        "batch_size=32\n",
        "epochs=30\n",
        "from keras import optimizers\n",
        "\n",
        "optimizer = optimizers.Adam(lr=0.001)\n",
        "\n",
        "model_cls.compile(loss='categorical_crossentropy',\n",
        "              optimizer=optimizer,\n",
        "              metrics=['accuracy'])\n",
        "\n",
        "t = now()\n",
        "history=model_cls.fit(train_features, train_labels,\n",
        "                      batch_size=batch_size,\n",
        "                      epochs=epochs,\n",
        "                      verbose=1,\n",
        "                      validation_data=(test_features, test_labels))\n",
        "\n",
        "print('Training time: %s' % (now() - t))\n",
        "scorelt5 = model_cls.evaluate(test_features, test_labels, verbose=0)\n",
        "print('Test score:', scorelt5[0])\n",
        "print('Test accuracy:', scorelt5[1])"
      ],
      "execution_count": 0,
      "outputs": [
        {
          "output_type": "stream",
          "text": [
            "WARNING:tensorflow:From /usr/local/lib/python3.6/dist-packages/tensorflow/python/ops/math_ops.py:3066: to_int32 (from tensorflow.python.ops.math_ops) is deprecated and will be removed in a future version.\n",
            "Instructions for updating:\n",
            "Use tf.cast instead.\n",
            "Train on 132 samples, validate on 34 samples\n",
            "Epoch 1/30\n",
            "132/132 [==============================] - 1s 8ms/step - loss: 13.7365 - acc: 0.0985 - val_loss: 13.9057 - val_acc: 0.1176\n",
            "Epoch 2/30\n",
            "132/132 [==============================] - 0s 275us/step - loss: 12.1737 - acc: 0.1970 - val_loss: 13.1627 - val_acc: 0.1176\n",
            "Epoch 3/30\n",
            "132/132 [==============================] - 0s 285us/step - loss: 12.1491 - acc: 0.2121 - val_loss: 12.4919 - val_acc: 0.1765\n",
            "Epoch 4/30\n",
            "132/132 [==============================] - 0s 281us/step - loss: 11.8783 - acc: 0.2273 - val_loss: 11.3033 - val_acc: 0.2059\n",
            "Epoch 5/30\n",
            "132/132 [==============================] - 0s 273us/step - loss: 10.5027 - acc: 0.3030 - val_loss: 8.3088 - val_acc: 0.4118\n",
            "Epoch 6/30\n",
            "132/132 [==============================] - 0s 274us/step - loss: 10.2113 - acc: 0.3561 - val_loss: 8.7117 - val_acc: 0.4118\n",
            "Epoch 7/30\n",
            "132/132 [==============================] - 0s 274us/step - loss: 10.3109 - acc: 0.3182 - val_loss: 10.4065 - val_acc: 0.2647\n",
            "Epoch 8/30\n",
            "132/132 [==============================] - 0s 305us/step - loss: 10.7503 - acc: 0.3106 - val_loss: 10.2569 - val_acc: 0.2941\n",
            "Epoch 9/30\n",
            "132/132 [==============================] - 0s 284us/step - loss: 10.0320 - acc: 0.3409 - val_loss: 11.6489 - val_acc: 0.2353\n",
            "Epoch 10/30\n",
            "132/132 [==============================] - 0s 298us/step - loss: 9.3574 - acc: 0.3788 - val_loss: 12.1907 - val_acc: 0.2353\n",
            "Epoch 11/30\n",
            "132/132 [==============================] - 0s 273us/step - loss: 9.8250 - acc: 0.3561 - val_loss: 10.0808 - val_acc: 0.3235\n",
            "Epoch 12/30\n",
            "132/132 [==============================] - 0s 278us/step - loss: 9.0849 - acc: 0.4015 - val_loss: 10.3681 - val_acc: 0.3235\n",
            "Epoch 13/30\n",
            "132/132 [==============================] - 0s 302us/step - loss: 10.2806 - acc: 0.3182 - val_loss: 8.9019 - val_acc: 0.4118\n",
            "Epoch 14/30\n",
            "132/132 [==============================] - 0s 280us/step - loss: 9.3413 - acc: 0.4091 - val_loss: 8.9247 - val_acc: 0.3824\n",
            "Epoch 15/30\n",
            "132/132 [==============================] - 0s 292us/step - loss: 8.3940 - acc: 0.4318 - val_loss: 8.7503 - val_acc: 0.4412\n",
            "Epoch 16/30\n",
            "132/132 [==============================] - 0s 273us/step - loss: 8.0291 - acc: 0.4545 - val_loss: 7.4666 - val_acc: 0.5000\n",
            "Epoch 17/30\n",
            "132/132 [==============================] - 0s 267us/step - loss: 7.3690 - acc: 0.5000 - val_loss: 7.3814 - val_acc: 0.5294\n",
            "Epoch 18/30\n",
            "132/132 [==============================] - 0s 289us/step - loss: 7.7943 - acc: 0.4621 - val_loss: 6.8601 - val_acc: 0.5294\n",
            "Epoch 19/30\n",
            "132/132 [==============================] - 0s 263us/step - loss: 5.7793 - acc: 0.5985 - val_loss: 5.7265 - val_acc: 0.5588\n",
            "Epoch 20/30\n",
            "132/132 [==============================] - 0s 311us/step - loss: 7.0684 - acc: 0.5303 - val_loss: 5.0192 - val_acc: 0.6176\n",
            "Epoch 21/30\n",
            "132/132 [==============================] - 0s 313us/step - loss: 5.3550 - acc: 0.6364 - val_loss: 5.0655 - val_acc: 0.6176\n",
            "Epoch 22/30\n",
            "132/132 [==============================] - 0s 282us/step - loss: 4.6678 - acc: 0.6818 - val_loss: 5.3858 - val_acc: 0.5588\n",
            "Epoch 23/30\n",
            "132/132 [==============================] - 0s 305us/step - loss: 5.7204 - acc: 0.6061 - val_loss: 6.0890 - val_acc: 0.5588\n",
            "Epoch 24/30\n",
            "132/132 [==============================] - 0s 280us/step - loss: 5.0590 - acc: 0.6515 - val_loss: 6.8904 - val_acc: 0.5588\n",
            "Epoch 25/30\n",
            "132/132 [==============================] - 0s 282us/step - loss: 5.1897 - acc: 0.6515 - val_loss: 6.7045 - val_acc: 0.5294\n",
            "Epoch 26/30\n",
            "132/132 [==============================] - 0s 308us/step - loss: 4.9920 - acc: 0.6439 - val_loss: 6.8096 - val_acc: 0.5588\n",
            "Epoch 27/30\n",
            "132/132 [==============================] - 0s 271us/step - loss: 4.8506 - acc: 0.6742 - val_loss: 6.9048 - val_acc: 0.5294\n",
            "Epoch 28/30\n",
            "132/132 [==============================] - 0s 327us/step - loss: 4.5898 - acc: 0.6970 - val_loss: 6.5452 - val_acc: 0.5588\n",
            "Epoch 29/30\n",
            "132/132 [==============================] - 0s 292us/step - loss: 3.9914 - acc: 0.6894 - val_loss: 5.8501 - val_acc: 0.5588\n",
            "Epoch 30/30\n",
            "132/132 [==============================] - 0s 299us/step - loss: 4.2154 - acc: 0.7045 - val_loss: 4.7470 - val_acc: 0.7059\n",
            "Training time: 0:00:02.600230\n",
            "Test score: 4.747016233556411\n",
            "Test accuracy: 0.7058823529411765\n"
          ],
          "name": "stdout"
        }
      ]
    },
    {
      "metadata": {
        "id": "PCidDHp0Yik_",
        "colab_type": "text"
      },
      "cell_type": "markdown",
      "source": [
        "# Improving the model's performance:\n",
        "\n",
        "Now try to improve the result you can change the hyperparameters, we encourage you to change the value of:\n",
        "\n",
        "- epochs\n",
        "- batch_size \n",
        "- increase_by\n",
        "- learning rate"
      ]
    }
  ]
}